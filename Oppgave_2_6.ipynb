{
 "cells": [
  {
   "cell_type": "markdown",
   "id": "4bc8a569-ed5e-47d0-b4b5-dd5be4cdce78",
   "metadata": {},
   "source": [
    "# Dette er en type 1 overskrift\n",
    "## Dette er en type 2 overskrift\n",
    "### Dette er en overskrift av type 3\n",
    "\n",
    "Mens dette er bare vanlig tekst"
   ]
  },
  {
   "cell_type": "markdown",
   "id": "17ef4da3-820d-40e4-99c2-640e3a5b10b2",
   "metadata": {},
   "source": [
    "<h1>Dette er en html-formatert overskrift type 1</h1>\n",
    "<h2>Dette er en html-overskrift, type 2.. osv</h2>"
   ]
  },
  {
   "cell_type": "markdown",
   "id": "422d3ba9-d9ea-406a-9bd7-088f26e6e5ca",
   "metadata": {},
   "source": [
    "![Smiley](smiley.png)"
   ]
  },
  {
   "cell_type": "markdown",
   "id": "bb7dcb8c-a023-4ac7-a01e-97ced34e1af4",
   "metadata": {},
   "source": [
    "<ol>\n",
    "    <li>kalle 1</li>\n",
    "    <li>kalle 2</li>\n",
    "</ol>"
   ]
  },
  {
   "cell_type": "markdown",
   "id": "78ac36f2-0e4a-4216-b96c-96ea1ccb265f",
   "metadata": {},
   "source": [
    "Mathematikk vist som inline math i teksten: $x(t) = A sin(2πf t)$"
   ]
  },
  {
   "cell_type": "markdown",
   "id": "07e8c71e-e9aa-40cc-8722-6fab6d452540",
   "metadata": {},
   "source": [
    "Matematikk vist som display math på egen linje: $$y(t)=\\frac{K_{a}}{\n",
    "}\\sqrt{\n",
    "^}√}}x3$$x3"
   ]
  },
  {
   "cell_type": "code",
   "execution_count": null,
   "id": "b8310565-2d64-423c-b9f4-7e3153622cd0",
   "metadata": {},
   "outputs": [],
   "source": []
  }
 ],
 "metadata": {
  "kernelspec": {
   "display_name": "Python 3 (ipykernel)",
   "language": "python",
   "name": "python3"
  },
  "language_info": {
   "codemirror_mode": {
    "name": "ipython",
    "version": 3
   },
   "file_extension": ".py",
   "mimetype": "text/x-python",
   "name": "python",
   "nbconvert_exporter": "python",
   "pygments_lexer": "ipython3",
   "version": "3.12.4"
  }
 },
 "nbformat": 4,
 "nbformat_minor": 5
}
