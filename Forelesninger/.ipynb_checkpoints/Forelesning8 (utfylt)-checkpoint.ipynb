{
 "cells": [
  {
   "attachments": {},
   "cell_type": "markdown",
   "id": "14a91399-7ec9-49b3-850d-b969a6c80329",
   "metadata": {},
   "source": [
    "# Forelesning 8: for-løkke og while-løkke\n",
    "Løkker: brukes til å iterere over elementer i en sekvens (som lister, strenger, arrays, tupler osv.).\n",
    "\n",
    "### For-løkker\n",
    "- Antall iterasjoner er kjent på forhånd.\n",
    "- Syntaks:\n",
    "\n",
    "##### for element in sekvens:\n",
    "    # kodeblokk\n",
    "\n",
    "\n",
    "##### for i in range(start, stop):\n",
    "    # kodeblokk\n",
    "\n",
    "\n",
    "### while-løkker\r",
    "- Betinget iterasjon: Fortsetter å kjøre så lenge en gitt betingelse er sann.\n",
    "- Antall iterasjoner er **ikke** (nødvendigvis) kjent på forhånd.\n",
    "- Syntaks:\n",
    "\r",
    "##### while betingelse:\n",
    "    # kodeblokk\n",
    "\n",
    "        "
   ]
  },
  {
   "cell_type": "code",
   "execution_count": 19,
   "id": "aa222ef0-7462-4cd0-9da8-7962d4eaa679",
   "metadata": {},
   "outputs": [
    {
     "name": "stdout",
     "output_type": "stream",
     "text": [
      "12.3\n",
      "kake\n",
      "-17\n",
      "hei\n",
      "11.5\n"
     ]
    }
   ],
   "source": [
    "# eks\n",
    "\n",
    "txt = \"God dag\"\n",
    "\n",
    "#for t in txt:\n",
    "    #print(t)\n",
    "\n",
    "min_liste = [12.3, \"kake\", -17, \"hei\", 23/2]\n",
    "\n",
    "#for element in min_liste:\n",
    "   # print(element)\n",
    "\n",
    "#for i in range(3):  # default er start med 0, dvs feks range(0, 3)\n",
    "    #print(i)\n",
    "\n",
    "#for i in range(3, 7):\n",
    "    #print(i)\n",
    "\n",
    "#for i in range(3, 16, 2):\n",
    "   # print(i)\n",
    "\n",
    "for i in range(0, 5):\n",
    "    print(min_liste[i])"
   ]
  },
  {
   "cell_type": "markdown",
   "id": "3fe3b5a0-99f2-4159-a960-c7146aa1d4e3",
   "metadata": {},
   "source": [
    "## For-løkker \n",
    "#### Noen typske problemstillinger hvor bruk av for-løkker egner seg\n",
    "\n",
    "Gitt følgende array:\n",
    "\n",
    "arr = np.array([3, -2, 1.7, 2.6, 14, -27, 1.9, -0.1, 8.2])\n",
    "\n",
    "1) lag et program som skriv ut ett og ett element i denne arrayen.\n",
    "2) lag et program som skriver ut annen hvert element i arrayen. \n",
    "3) lag en funksjon som finner antall elementer som er positiv og antall elementer som er negative."
   ]
  },
  {
   "cell_type": "code",
   "execution_count": 39,
   "id": "7be80d8e-360b-42c7-a04e-e8c0e5046d92",
   "metadata": {},
   "outputs": [
    {
     "name": "stdout",
     "output_type": "stream",
     "text": [
      "Antall positive:  6\n",
      "Antall negative:  3\n"
     ]
    }
   ],
   "source": [
    "#Eksempel på for-løkke\n",
    "\n",
    "import numpy as np\n",
    "arr = np.array([3, -2, 1.7, 2.6, 14, -27, 1.9, -0.1, 8.2])\n",
    "\n",
    "# 1\n",
    "#for e in arr:\n",
    "    #print(e)\n",
    "\n",
    "#2\n",
    "#for i in range(0, len(arr), 2):\n",
    "    #print(arr[i])\n",
    "\n",
    "#3\n",
    "def finn_pos_neg(arr):\n",
    "    ant_pos = 0\n",
    "    ant_neg = 0\n",
    "    for element in arr:\n",
    "        if element >= 0:\n",
    "            ant_pos += 1\n",
    "        else:\n",
    "            ant_neg += 1\n",
    "    print(\"Antall positive: \", ant_pos)\n",
    "    print(\"Antall negative: \", ant_neg)\n",
    "\n",
    "finn_pos_neg(arr)\n"
   ]
  },
  {
   "cell_type": "markdown",
   "id": "8ce22232-5c75-415f-8d7a-1522837a24fd",
   "metadata": {},
   "source": [
    "## While-løkker\n",
    "#### While-løkker kan erstatte for-løkker for noen problemstillinger (og vice versa) \n",
    "\n",
    "Gitt følgende array:\n",
    "\n",
    "arr = np.array([3, -2, 1.7, 2.3, 14, -27, 1.9, -0.1, 8.2])\n",
    "\n",
    "1) lag et program som skriv ut ett og ett element i denne arrayen.\n",
    "2) lag et program som skriver ut annen hvert element i arrayen. "
   ]
  },
  {
   "cell_type": "code",
   "execution_count": 1,
   "id": "293a4c95-0916-410c-b1d5-9ba8fbc3a17b",
   "metadata": {},
   "outputs": [
    {
     "name": "stdout",
     "output_type": "stream",
     "text": [
      "3.0\n",
      "-2.0\n",
      "1.7\n",
      "2.3\n",
      "14.0\n",
      "-27.0\n",
      "1.9\n",
      "-0.1\n",
      "8.2\n"
     ]
    }
   ],
   "source": [
    "#Eksempel på kode: \n",
    "\n",
    "import numpy as np\n",
    "\n",
    "arr = np.array([3, -2, 1.7, 2.3, 14, -27, 1.9, -0.1, 8.2])\n",
    "\n",
    "# 1 (Samme res. som for-løkke)\n",
    "index = 0\n",
    "while index < len(arr):\n",
    "    print(arr[index])\n",
    "    index += 1   # index += 2 for oppg. 2\n",
    "\n"
   ]
  },
  {
   "cell_type": "markdown",
   "id": "8557dcc2-9b91-4a38-aa2e-84bb1332ca3a",
   "metadata": {},
   "source": [
    "## While-løkker \n",
    "#### Noen typske problemstillinger hvor bruk av while-løkker egner seg\n",
    "\n",
    "arr = np.array([3, 2, 1.7, 2.6, 14, 27, 1.9, 0.1, 8.2])\n",
    "\n",
    "1) Lag en funksjon som søker gjennom arrayen og finner de to første tallene som er større eller lik fem.\r\n",
    "2) \r\n",
    "Lag en funksjon som finner ut hvor mange element i arrayen arr som må summerer for at summen skal bli større eller lik 20. Antallet elementer som inngikk i summasjonen skrives til skjerm.\r\n",
    "\n",
    "\n",
    "\n",
    "\n"
   ]
  },
  {
   "cell_type": "code",
   "execution_count": 17,
   "id": "ace12a8b-95a1-4eee-b6ff-d5b8b4a2927c",
   "metadata": {},
   "outputs": [
    {
     "name": "stdout",
     "output_type": "stream",
     "text": [
      "14.0\n",
      "27.0\n"
     ]
    }
   ],
   "source": [
    "#Eksempel på kode: \n",
    "\n",
    "import numpy as np\n",
    "arr = np.array([3, 2, 1.7, 2.6, 14, 27, 1.9, 10.1, 8.2])\n",
    "\n",
    "# 1\n",
    "def min_funk(arr):\n",
    "    funnet = 0\n",
    "    index = 0\n",
    "    while funnet < 2:\n",
    "    \n",
    "        if arr[index] >= 5:\n",
    "            funnet += 1\n",
    "            print(arr[index])\n",
    "        \n",
    "        index += 1\n",
    "\n",
    "min_funk(arr)"
   ]
  },
  {
   "cell_type": "code",
   "execution_count": 29,
   "id": "5ffd23bd-8b73-4363-8740-a5d673614991",
   "metadata": {},
   "outputs": [
    {
     "name": "stdout",
     "output_type": "stream",
     "text": [
      "Index er 0 tallet er 3.0 summen er 3.0\n",
      "Index er 1 tallet er 2.0 summen er 5.0\n",
      "Index er 2 tallet er 1.7 summen er 6.7\n",
      "Index er 3 tallet er 2.6 summen er 9.3\n",
      "Index er 4 tallet er 14.0 summen er 23.3\n",
      "Antall elementer som skulle til: 5\n"
     ]
    }
   ],
   "source": [
    "# 2\n",
    "\n",
    "import numpy as np\n",
    "arr = np.array([3, 2, 1.7, 2.6, 14, 27, 1.9, 0.1, 8.2])\n",
    "\n",
    "def finn_ant_elem(arr):\n",
    "    min_sum = 0\n",
    "    index = 0\n",
    "\n",
    "    while min_sum < 20:\n",
    "        min_sum += arr[index]\n",
    "        print(\"Index er\", index, \"tallet er\", arr[index], \"summen er\", min_sum)\n",
    "        index += 1\n",
    "\n",
    "    print(\"Antall elementer som skulle til:\", index)\n",
    "\n",
    "finn_ant_elem(arr)"
   ]
  }
 ],
 "metadata": {
  "kernelspec": {
   "display_name": "Python 3 (ipykernel)",
   "language": "python",
   "name": "python3"
  },
  "language_info": {
   "codemirror_mode": {
    "name": "ipython",
    "version": 3
   },
   "file_extension": ".py",
   "mimetype": "text/x-python",
   "name": "python",
   "nbconvert_exporter": "python",
   "pygments_lexer": "ipython3",
   "version": "3.12.4"
  }
 },
 "nbformat": 4,
 "nbformat_minor": 5
}
