{
 "cells": [
  {
   "cell_type": "code",
   "execution_count": 1,
   "id": "54b8f856-5fc7-49ec-9ed8-0ade10bae4f5",
   "metadata": {},
   "outputs": [
    {
     "name": "stdout",
     "output_type": "stream",
     "text": [
      "     Ukedag Klokkeslett  Varighet  Tilfredshet\n",
      "0    Mandag    08:04:16  00:07:12          NaN\n",
      "1    Mandag    08:04:53  00:02:49          6.0\n",
      "2    Mandag    08:06:31  00:08:36          NaN\n",
      "3    Mandag    08:11:21  00:04:34          NaN\n",
      "4    Mandag    08:20:46  00:07:38          NaN\n",
      "..      ...         ...       ...          ...\n",
      "212  Fredag    15:06:52  00:11:12          NaN\n",
      "213  Fredag    15:25:32  00:10:21          NaN\n",
      "214  Fredag    15:30:39  00:07:16          NaN\n",
      "215  Fredag    15:39:11  00:08:49          NaN\n",
      "216  Fredag    15:56:10  00:10:13         10.0\n",
      "\n",
      "[217 rows x 4 columns]\n"
     ]
    }
   ],
   "source": [
    "\n",
    "import pandas as pd\n",
    "\n",
    "u_dag = pd.read_excel('support_uke_24.xlsx')\n",
    "\n",
    "print(u_dag)"
   ]
  }
 ],
 "metadata": {
  "kernelspec": {
   "display_name": "Python 3 (ipykernel)",
   "language": "python",
   "name": "python3"
  },
  "language_info": {
   "codemirror_mode": {
    "name": "ipython",
    "version": 3
   },
   "file_extension": ".py",
   "mimetype": "text/x-python",
   "name": "python",
   "nbconvert_exporter": "python",
   "pygments_lexer": "ipython3",
   "version": "3.12.4"
  }
 },
 "nbformat": 4,
 "nbformat_minor": 5
}
