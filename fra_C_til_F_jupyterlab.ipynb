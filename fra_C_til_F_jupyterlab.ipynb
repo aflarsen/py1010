{
 "cells": [
  {
   "cell_type": "code",
   "execution_count": null,
   "id": "84d93190-bd94-4758-a688-c0a6e78a9b85",
   "metadata": {},
   "outputs": [],
   "source": [
    "C = 100\n",
    "F = C*1.8 + 32"
   ]
  },
  {
   "cell_type": "code",
   "execution_count": null,
   "id": "0f6cdec9-5554-496c-9a30-a2b81ed1fb19",
   "metadata": {},
   "outputs": [],
   "source": [
    "print(F)"
   ]
  }
 ],
 "metadata": {
  "kernelspec": {
   "display_name": "anaconda-ai-2024.04-py310",
   "language": "python",
   "name": "conda-env-anaconda-ai-2024.04-py310-py"
  },
  "language_info": {
   "codemirror_mode": {
    "name": "ipython",
    "version": 3
   },
   "file_extension": ".py",
   "mimetype": "text/x-python",
   "name": "python",
   "nbconvert_exporter": "python",
   "pygments_lexer": "ipython3",
   "version": "3.10.13"
  }
 },
 "nbformat": 4,
 "nbformat_minor": 5
}
