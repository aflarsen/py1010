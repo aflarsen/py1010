{
 "cells": [
  {
   "cell_type": "markdown",
   "id": "f7d9fbd1-6545-4f98-92b8-ca52467b0fe2",
   "metadata": {},
   "source": [
    "Omregning fra Fahrenheit til Celsius"
   ]
  },
  {
   "cell_type": "code",
   "execution_count": 8,
   "id": "e9b70638-fdbe-4fec-894f-01d40eaba101",
   "metadata": {},
   "outputs": [],
   "source": [
    "F = 0.0\n",
    "C = (F - 32) / 1.8"
   ]
  },
  {
   "cell_type": "code",
   "execution_count": 10,
   "id": "26ee0ff2-e565-456b-a50f-1b2831bb9947",
   "metadata": {},
   "outputs": [
    {
     "name": "stdout",
     "output_type": "stream",
     "text": [
      "0.0 grader Fahrenheit tilsvarer  -17.77777777777778 grader Celsius.\n"
     ]
    }
   ],
   "source": [
    "print(F, \"grader Fahrenheit tilsvarer \", C, \"grader Celsius.\")"
   ]
  },
  {
   "cell_type": "code",
   "execution_count": null,
   "id": "7fe16f2e-97a7-4f1b-a693-de714c9ea042",
   "metadata": {},
   "outputs": [],
   "source": []
  }
 ],
 "metadata": {
  "kernelspec": {
   "display_name": "Python 3 (ipykernel)",
   "language": "python",
   "name": "python3"
  },
  "language_info": {
   "codemirror_mode": {
    "name": "ipython",
    "version": 3
   },
   "file_extension": ".py",
   "mimetype": "text/x-python",
   "name": "python",
   "nbconvert_exporter": "python",
   "pygments_lexer": "ipython3",
   "version": "3.12.4"
  }
 },
 "nbformat": 4,
 "nbformat_minor": 5
}
