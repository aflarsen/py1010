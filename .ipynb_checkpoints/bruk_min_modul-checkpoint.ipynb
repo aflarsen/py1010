{
 "cells": [
  {
   "cell_type": "code",
   "execution_count": 13,
   "id": "ed2fc596-2aeb-411c-9796-e4e3c7cd4d42",
   "metadata": {},
   "outputs": [
    {
     "name": "stdout",
     "output_type": "stream",
     "text": [
      "Result =  28.0\n",
      "mm.p0 = 2.5\n",
      "mm.p1 = 3.0\n",
      "['__builtins__', '__cached__', '__doc__', '__file__', '__loader__', '__name__', '__package__', '__spec__', 'fun_lin', 'p0', 'p1']\n"
     ]
    }
   ],
   "source": [
    "import sys\n",
    "sys.path.append('modulmappe') \n",
    "\n",
    "import min_modul as mm\n",
    "\n",
    "import importlib\n",
    "importlib.reload(mm)\n",
    "\n",
    "x_in = 10.0\n",
    "\n",
    "out = mm.fun_lin(x_in, mm.p0, mm.p1)  # Funksjonen fun_lin og variablene p0 og p1 er importert fra modulen! \n",
    "\n",
    "print('Result = ', out)\n",
    "print('mm.p0 =', mm.p0)\n",
    "print('mm.p1 =', mm.p1)\n",
    "\n",
    "# lister ut alle variabel- og funksjonsnavn i modulen:\n",
    "x = dir(mm)\n",
    "print(x)\n"
   ]
  },
  {
   "cell_type": "code",
   "execution_count": null,
   "id": "77dacf38-2faa-4683-bf69-3ba34b4756f5",
   "metadata": {},
   "outputs": [],
   "source": []
  }
 ],
 "metadata": {
  "kernelspec": {
   "display_name": "Python 3 (ipykernel)",
   "language": "python",
   "name": "python3"
  },
  "language_info": {
   "codemirror_mode": {
    "name": "ipython",
    "version": 3
   },
   "file_extension": ".py",
   "mimetype": "text/x-python",
   "name": "python",
   "nbconvert_exporter": "python",
   "pygments_lexer": "ipython3",
   "version": "3.12.4"
  }
 },
 "nbformat": 4,
 "nbformat_minor": 5
}
